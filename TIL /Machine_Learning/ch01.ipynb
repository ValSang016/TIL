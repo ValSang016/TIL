{
  "cells": [
    {
      "cell_type": "markdown",
      "metadata": {
        "id": "6nHW37xBOV8V"
      },
      "source": [
        "# 머신 러닝 교과서 3판"
      ]
    },
    {
      "cell_type": "markdown",
      "metadata": {
        "id": "RCZkJE8bOV8Y"
      },
      "source": [
        "# 1장 - 컴퓨터는 데이터에서 배운다"
      ]
    },
    {
      "cell_type": "markdown",
      "metadata": {
        "id": "xxQrjKgZOV8Z"
      },
      "source": [
        "### 목차"
      ]
    },
    {
      "cell_type": "markdown",
      "metadata": {
        "id": "nZ4nk_MKOV8Z"
      },
      "source": [
        "- 데이터를 지식으로 바꾸는 지능적인 시스템 구축\n",
        "    - 머신 러닝의 세 가지 종류\n",
        "    - 지도 학습으로 미래 예측\n",
        "    - 강화 학습으로 반응형 문제 해결\n",
        "    - 비지도 학습으로 숨겨진 구조 발견\n",
        "- 기본 용어와 표기법 소개\n",
        "    - 이 책에서 사용하는 표기법과 규칙\n",
        "    - 머신 러닝 용어\n",
        "- 머신 러닝 시스템 구축 로드맵\n",
        "    - 전처리: 데이터 형태 갖추기\n",
        "    - 예측 모델 훈련과 선택\n",
        "    - 모델을 평가하고 본 적 없는 샘플로 예측"
      ]
    },
    {
      "cell_type": "code",
      "execution_count": null,
      "metadata": {
        "execution": {
          "iopub.execute_input": "2021-10-23T05:49:12.483577Z",
          "iopub.status.busy": "2021-10-23T05:49:12.481184Z",
          "iopub.status.idle": "2021-10-23T05:49:12.487647Z",
          "shell.execute_reply": "2021-10-23T05:49:12.488360Z"
        },
        "id": "tOFCjsx5OV8a"
      },
      "outputs": [],
      "source": [
        "from IPython.display import Image"
      ]
    },
    {
      "cell_type": "markdown",
      "metadata": {
        "id": "2us1IC-fOV8b"
      },
      "source": [
        "<br>"
      ]
    },
    {
      "cell_type": "markdown",
      "metadata": {
        "id": "J4gr2vFdOV8b"
      },
      "source": [
        "# 1.1 데이터를 지식으로 바꾸는 지능적인 시스템 구축"
      ]
    },
    {
      "cell_type": "markdown",
      "metadata": {
        "id": "3xR70JVDOV8b"
      },
      "source": [
        "* 인공 지능 > 머신 러닝\n",
        "* 수동으로 만드는 규칙 --> 데이터에서 규칙(지식)을 도출"
      ]
    },
    {
      "cell_type": "markdown",
      "metadata": {
        "id": "Q5LJPv2iOV8b"
      },
      "source": [
        "<br>"
      ]
    },
    {
      "cell_type": "markdown",
      "metadata": {
        "id": "4weZiIkHOV8b"
      },
      "source": [
        "# 1.2 머신 러닝의 세 가지 종류"
      ]
    },
    {
      "cell_type": "code",
      "execution_count": null,
      "metadata": {
        "execution": {
          "iopub.execute_input": "2021-10-23T05:49:12.500280Z",
          "iopub.status.busy": "2021-10-23T05:49:12.497846Z",
          "iopub.status.idle": "2021-10-23T05:49:12.510764Z",
          "shell.execute_reply": "2021-10-23T05:49:12.509927Z"
        },
        "id": "4f3xnGljOV8c",
        "outputId": "5f563707-ca86-48bc-b08b-d62f64bfbed5"
      },
      "outputs": [
        {
          "data": {
            "text/html": [
              "<img src=\"https://git.io/JtIQ1\" width=\"500\"/>"
            ],
            "text/plain": [
              "<IPython.core.display.Image object>"
            ]
          },
          "execution_count": 2,
          "metadata": {},
          "output_type": "execute_result"
        }
      ],
      "source": [
        "Image(url='https://git.io/JtIQ1', width=500)"
      ]
    },
    {
      "cell_type": "markdown",
      "metadata": {
        "id": "GQ1PuTFGOV8c"
      },
      "source": [
        "<br>"
      ]
    },
    {
      "cell_type": "markdown",
      "metadata": {
        "id": "NRkXu2G6OV8d"
      },
      "source": [
        "## 1.2.1 지도 학습으로 미래 예측하기"
      ]
    },
    {
      "cell_type": "code",
      "execution_count": null,
      "metadata": {
        "execution": {
          "iopub.execute_input": "2021-10-23T05:49:12.518182Z",
          "iopub.status.busy": "2021-10-23T05:49:12.517089Z",
          "iopub.status.idle": "2021-10-23T05:49:12.522283Z",
          "shell.execute_reply": "2021-10-23T05:49:12.521540Z"
        },
        "id": "e-jSAJV-OV8d",
        "outputId": "00725b45-3f56-49a0-a4e7-468907fbe57b"
      },
      "outputs": [
        {
          "data": {
            "text/html": [
              "<img src=\"https://git.io/JtIQH\" width=\"500\"/>"
            ],
            "text/plain": [
              "<IPython.core.display.Image object>"
            ]
          },
          "execution_count": 3,
          "metadata": {},
          "output_type": "execute_result"
        }
      ],
      "source": [
        "Image(url='https://git.io/JtIQH', width=500)"
      ]
    },
    {
      "cell_type": "markdown",
      "metadata": {
        "id": "jrVjI7E3OV8d"
      },
      "source": [
        "### 분류: 클래스 레이블 예측"
      ]
    },
    {
      "cell_type": "code",
      "execution_count": null,
      "metadata": {
        "execution": {
          "iopub.execute_input": "2021-10-23T05:49:12.529674Z",
          "iopub.status.busy": "2021-10-23T05:49:12.528114Z",
          "iopub.status.idle": "2021-10-23T05:49:12.532739Z",
          "shell.execute_reply": "2021-10-23T05:49:12.532139Z"
        },
        "id": "lSuVKyAPOV8d",
        "outputId": "f25c7766-9e60-4dad-8ce2-19a61793d4be"
      },
      "outputs": [
        {
          "data": {
            "text/html": [
              "<img src=\"https://git.io/JtIQ5\" width=\"300\"/>"
            ],
            "text/plain": [
              "<IPython.core.display.Image object>"
            ]
          },
          "execution_count": 4,
          "metadata": {},
          "output_type": "execute_result"
        }
      ],
      "source": [
        "Image(url='https://git.io/JtIQ5', width=300)"
      ]
    },
    {
      "cell_type": "markdown",
      "metadata": {
        "id": "ox8oJfPqOV8e"
      },
      "source": [
        "- 이진 분류(binary classification) vs 다중 분류(multiclass classification)\n",
        "- 양성 클래스(positive class) / 음성 클래스(negative class)\n",
        "- 결정 경계(decision boundary)"
      ]
    },
    {
      "cell_type": "markdown",
      "metadata": {
        "id": "D4vQmfFdOV8e"
      },
      "source": [
        "### 회귀: 연속적인 출력 값 예측"
      ]
    },
    {
      "cell_type": "code",
      "execution_count": null,
      "metadata": {
        "execution": {
          "iopub.execute_input": "2021-10-23T05:49:12.539177Z",
          "iopub.status.busy": "2021-10-23T05:49:12.538481Z",
          "iopub.status.idle": "2021-10-23T05:49:12.542603Z",
          "shell.execute_reply": "2021-10-23T05:49:12.543071Z"
        },
        "id": "Es0ebR4rOV8e",
        "outputId": "0107570d-b668-4d54-ee63-2a1c8fd1b146"
      },
      "outputs": [
        {
          "data": {
            "text/html": [
              "<img src=\"https://git.io/JtIQd\" width=\"300\"/>"
            ],
            "text/plain": [
              "<IPython.core.display.Image object>"
            ]
          },
          "execution_count": 5,
          "metadata": {},
          "output_type": "execute_result"
        }
      ],
      "source": [
        "Image(url='https://git.io/JtIQd', width=300)"
      ]
    },
    {
      "cell_type": "markdown",
      "metadata": {
        "id": "gMujPgK7OV8f"
      },
      "source": [
        "- 예측 변수(특성) vs 반응 변수(타깃)\n",
        "- 선형 회귀(linear regression)"
      ]
    },
    {
      "cell_type": "markdown",
      "metadata": {
        "id": "JiTylFm2OV8f"
      },
      "source": [
        "<br>"
      ]
    },
    {
      "cell_type": "markdown",
      "metadata": {
        "id": "V4_uP97TOV8f"
      },
      "source": [
        "## 1.2.2 강화 학습으로 반응형 문제 해결"
      ]
    },
    {
      "cell_type": "code",
      "execution_count": null,
      "metadata": {
        "execution": {
          "iopub.execute_input": "2021-10-23T05:49:12.549671Z",
          "iopub.status.busy": "2021-10-23T05:49:12.548963Z",
          "iopub.status.idle": "2021-10-23T05:49:12.552796Z",
          "shell.execute_reply": "2021-10-23T05:49:12.553275Z"
        },
        "id": "-Ok1VlymOV8f",
        "outputId": "71cbaab6-839f-402e-82bc-3f664d6e07a5"
      },
      "outputs": [
        {
          "data": {
            "text/html": [
              "<img src=\"https://git.io/JtIQN\" width=\"300\"/>"
            ],
            "text/plain": [
              "<IPython.core.display.Image object>"
            ]
          },
          "execution_count": 6,
          "metadata": {},
          "output_type": "execute_result"
        }
      ],
      "source": [
        "Image(url='https://git.io/JtIQN', width=300)"
      ]
    },
    {
      "cell_type": "markdown",
      "metadata": {
        "id": "746MYG-2OV8f"
      },
      "source": [
        "<br>"
      ]
    },
    {
      "cell_type": "markdown",
      "metadata": {
        "id": "lr_oKz8KOV8f"
      },
      "source": [
        "## 1.2.3 비지도 학습으로 숨겨진 구조 발견"
      ]
    },
    {
      "cell_type": "markdown",
      "metadata": {
        "id": "BdaqTR0-OV8g"
      },
      "source": [
        "### 군집: 서브그룹 찾기"
      ]
    },
    {
      "cell_type": "code",
      "execution_count": null,
      "metadata": {
        "execution": {
          "iopub.execute_input": "2021-10-23T05:49:12.560557Z",
          "iopub.status.busy": "2021-10-23T05:49:12.558980Z",
          "iopub.status.idle": "2021-10-23T05:49:12.563643Z",
          "shell.execute_reply": "2021-10-23T05:49:12.563004Z"
        },
        "id": "J8MG-RTJOV8g",
        "outputId": "10b62424-eb0e-440a-9352-c5b68b3be14d"
      },
      "outputs": [
        {
          "data": {
            "text/html": [
              "<img src=\"https://git.io/JtIQx\" width=\"300\"/>"
            ],
            "text/plain": [
              "<IPython.core.display.Image object>"
            ]
          },
          "execution_count": 7,
          "metadata": {},
          "output_type": "execute_result"
        }
      ],
      "source": [
        "Image(url='https://git.io/JtIQx', width=300)"
      ]
    },
    {
      "cell_type": "markdown",
      "metadata": {
        "id": "8kldqmhGOV8g"
      },
      "source": [
        "- 클러스터(cluster)"
      ]
    },
    {
      "cell_type": "markdown",
      "metadata": {
        "id": "oaUtTu33OV8g"
      },
      "source": [
        "### 차원 축소: 데이터 압축"
      ]
    },
    {
      "cell_type": "code",
      "execution_count": null,
      "metadata": {
        "execution": {
          "iopub.execute_input": "2021-10-23T05:49:12.570059Z",
          "iopub.status.busy": "2021-10-23T05:49:12.568804Z",
          "iopub.status.idle": "2021-10-23T05:49:12.572603Z",
          "shell.execute_reply": "2021-10-23T05:49:12.573073Z"
        },
        "id": "vTux4Qx0OV8g",
        "outputId": "dba83637-fbcf-4565-e24d-d0950c2ef2e5"
      },
      "outputs": [
        {
          "data": {
            "text/html": [
              "<img src=\"https://git.io/JtIQp\" width=\"500\"/>"
            ],
            "text/plain": [
              "<IPython.core.display.Image object>"
            ]
          },
          "execution_count": 8,
          "metadata": {},
          "output_type": "execute_result"
        }
      ],
      "source": [
        "Image(url='https://git.io/JtIQp', width=500)"
      ]
    },
    {
      "cell_type": "markdown",
      "metadata": {
        "id": "3z9wwLgBOV8g"
      },
      "source": [
        "<br>"
      ]
    },
    {
      "cell_type": "markdown",
      "metadata": {
        "id": "iIrWFer2OV8h"
      },
      "source": [
        "# 1.3 기본 용어와 표기법 소개"
      ]
    },
    {
      "cell_type": "markdown",
      "metadata": {
        "id": "ZOcEzsFPOV8h"
      },
      "source": [
        "### 1.3.1 이 책에서 사용하는 표기법과 규칙"
      ]
    },
    {
      "cell_type": "code",
      "execution_count": null,
      "metadata": {
        "execution": {
          "iopub.execute_input": "2021-10-23T05:49:12.579115Z",
          "iopub.status.busy": "2021-10-23T05:49:12.578448Z",
          "iopub.status.idle": "2021-10-23T05:49:12.582897Z",
          "shell.execute_reply": "2021-10-23T05:49:12.583566Z"
        },
        "id": "pUBtXBqxOV8h",
        "outputId": "f6480274-680b-4aa5-ec22-f063ce92a740"
      },
      "outputs": [
        {
          "data": {
            "text/html": [
              "<img src=\"https://git.io/JtI7e\" width=\"500\"/>"
            ],
            "text/plain": [
              "<IPython.core.display.Image object>"
            ]
          },
          "execution_count": 9,
          "metadata": {},
          "output_type": "execute_result"
        }
      ],
      "source": [
        "Image(url='https://git.io/JtI7e', width=500)"
      ]
    },
    {
      "cell_type": "markdown",
      "metadata": {
        "id": "XI3LD9mTOV8i"
      },
      "source": [
        "$\\boldsymbol{X} \\in \\mathbb{R}^{150\\times4}$\n",
        "\n",
        "$\\begin{bmatrix}\n",
        "x_1^{(1)} & x_2^{(1)} & x_3^{(1)} & x_4^{(1)} \\\\\n",
        "x_1^{(2)} & x_2^{(2)} & x_3^{(2)} & x_4^{(2)} \\\\\n",
        "\\vdots & \\vdots & \\vdots & \\vdots \\\\\n",
        "x_1^{(150)} & x_2^{(150)} & x_3^{(150)} & x_4^{(150)} \\\\\n",
        "\\end{bmatrix}$\n",
        "\n",
        "벡터 : $\\boldsymbol{x}\\in\\mathbb{R}^{n\\times1}$\n",
        "\n",
        "행렬 : $\\boldsymbol{X}\\in\\mathbb{R}^{n\\times m}$\n",
        "\n",
        "샘플(행 벡터): $\\boldsymbol{x}^{(i)}=\\begin{bmatrix} x_1^{(i)} & x_2^{(i)} & x_3^{(i)} & x_4^{(i)}\\end{bmatrix}$\n",
        "\n",
        "특성(열 벡터): $\\boldsymbol{x}_j=\\begin{bmatrix} x_j^{(1)} \\\\ x_j^{(2)} \\\\ \\vdots \\\\ x_j^{(150)} \\end{bmatrix}$\n",
        "\n",
        "타깃(열 벡터): $\\boldsymbol{y}=\\begin{bmatrix} y^{(1)} \\\\ y^{(2)} \\\\ \\vdots \\\\ y^{(150)} \\end{bmatrix}$ $(y \\in \\text{\\{Setosa, Versicolor, Virginica\\}})$"
      ]
    },
    {
      "cell_type": "markdown",
      "metadata": {
        "id": "c65YtGd1OV8i"
      },
      "source": [
        "## 1.3.2 머신 러닝 용어"
      ]
    },
    {
      "cell_type": "markdown",
      "metadata": {
        "id": "UBrmPqiUOV8j"
      },
      "source": [
        "- 훈련 샘플\n",
        "- 훈련\n",
        "- 특성(변수, 입력)\n",
        "- 타깃(출력, 반응 변수, 정답)\n",
        "- 손실 함수(비용 함수)"
      ]
    },
    {
      "cell_type": "markdown",
      "metadata": {
        "id": "vm15ytz8OV8j"
      },
      "source": [
        "<br>"
      ]
    },
    {
      "cell_type": "markdown",
      "metadata": {
        "id": "YOTMGdHDOV8j"
      },
      "source": [
        "# 1.4 머신 러닝 시스템 구축 로드맵"
      ]
    },
    {
      "cell_type": "code",
      "execution_count": null,
      "metadata": {
        "execution": {
          "iopub.execute_input": "2021-10-23T05:49:12.587963Z",
          "iopub.status.busy": "2021-10-23T05:49:12.587146Z",
          "iopub.status.idle": "2021-10-23T05:49:12.591308Z",
          "shell.execute_reply": "2021-10-23T05:49:12.591794Z"
        },
        "id": "zLdheCaCOV8k",
        "outputId": "1137b165-51dc-4bc3-c9d2-df4aed579eb1"
      },
      "outputs": [
        {
          "data": {
            "text/html": [
              "<img src=\"https://git.io/JtI7J\" width=\"700\"/>"
            ],
            "text/plain": [
              "<IPython.core.display.Image object>"
            ]
          },
          "execution_count": 10,
          "metadata": {},
          "output_type": "execute_result"
        }
      ],
      "source": [
        "Image(url='https://git.io/JtI7J', width=700)"
      ]
    },
    {
      "cell_type": "markdown",
      "metadata": {
        "id": "EOd7A19gOV8k"
      },
      "source": [
        "## 1.4.1 전처리: 데이터 형태 갖추기"
      ]
    },
    {
      "cell_type": "markdown",
      "metadata": {
        "id": "wifYXQtBOV8k"
      },
      "source": [
        "- 스케일 조정\n",
        "- 차원 축소\n",
        "- 훈련 데이터셋과 테스트 데이터셋"
      ]
    },
    {
      "cell_type": "markdown",
      "metadata": {
        "id": "2CDVxshJOV8l"
      },
      "source": [
        "## 1.4.2 예측 모델 훈련과 선택"
      ]
    },
    {
      "cell_type": "markdown",
      "metadata": {
        "id": "9OX8OR_6OV8l"
      },
      "source": [
        "- 공짜 점심 없음\n",
        "- 대표적인 분류 지표: 정확도(accuracy)\n",
        "- 하이퍼파라미터\n",
        "- 교차 검증"
      ]
    },
    {
      "cell_type": "markdown",
      "metadata": {
        "id": "0l0I8CMzOV8m"
      },
      "source": [
        "### 1.4.3 모델을 평가하고 본 적 없는 샘플로 예측"
      ]
    },
    {
      "cell_type": "markdown",
      "metadata": {
        "id": "CHx5pLNJOV8m"
      },
      "source": [
        "* 일반화 오차(일반화 성능)\n",
        "* 훈련 데이터셋에서 사용한 전처리 파라미터로 테스트 데이터셋/실제 데이터 변환"
      ]
    },
    {
      "cell_type": "markdown",
      "metadata": {
        "id": "SqqpXrtwOV8m"
      },
      "source": [
        "<br>"
      ]
    }
  ],
  "metadata": {
    "anaconda-cloud": {},
    "kernelspec": {
      "display_name": "Python 3 (ipykernel)",
      "language": "python",
      "name": "python3"
    },
    "language_info": {
      "codemirror_mode": {
        "name": "ipython",
        "version": 3
      },
      "file_extension": ".py",
      "mimetype": "text/x-python",
      "name": "python",
      "nbconvert_exporter": "python",
      "pygments_lexer": "ipython3",
      "version": "3.7.3"
    },
    "colab": {
      "provenance": []
    }
  },
  "nbformat": 4,
  "nbformat_minor": 0
}